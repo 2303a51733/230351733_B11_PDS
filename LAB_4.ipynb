{
  "nbformat": 4,
  "nbformat_minor": 0,
  "metadata": {
    "colab": {
      "provenance": [],
      "authorship_tag": "ABX9TyPTIez3ZUbSfJvTD6m7/Ss7",
      "include_colab_link": true
    },
    "kernelspec": {
      "name": "python3",
      "display_name": "Python 3"
    },
    "language_info": {
      "name": "python"
    }
  },
  "cells": [
    {
      "cell_type": "markdown",
      "metadata": {
        "id": "view-in-github",
        "colab_type": "text"
      },
      "source": [
        "<a href=\"https://colab.research.google.com/github/2303a51733/230351733_B11_PDS/blob/main/LAB_4.ipynb\" target=\"_parent\"><img src=\"https://colab.research.google.com/assets/colab-badge.svg\" alt=\"Open In Colab\"/></a>"
      ]
    },
    {
      "cell_type": "markdown",
      "source": [
        "QUESTION 1"
      ],
      "metadata": {
        "id": "BGqX_1hYKWqa"
      }
    },
    {
      "cell_type": "code",
      "source": [
        "import pandas as pd\n",
        "df = pd.read_csv(\"/content/sales_data2.csv\")\n",
        "df = df.dropna(subset=[\"Product\", \"Quantity\"])\n",
        "mean_price = df[\"Price\"].mean()\n",
        "df[\"Price\"] = df[\"Price\"].fillna(mean_price)\n",
        "df.loc[df[\"Total\"].isna(), \"Total\"] = df[\"Quantity\"] * df[\"Price\"]\n",
        "large_transactions = df[df[\"Total\"] > 1000]\n",
        "print(\"Cleaned Data:\\n\", df)\n",
        "print(\"\\nLarge Transactions (Total > 1000):\\n\", large_transactions)\n",
        "df.to_csv(\"cleaned_sales_data.csv\", index=False)"
      ],
      "metadata": {
        "colab": {
          "base_uri": "https://localhost:8080/",
          "height": 0
        },
        "id": "B-5cxiNBJr0V",
        "outputId": "f5b595e4-8045-4e42-c864-467499c651c1"
      },
      "execution_count": 3,
      "outputs": [
        {
          "output_type": "stream",
          "name": "stdout",
          "text": [
            "Cleaned Data:\n",
            "    Invoice_No Customer_Name     Product  Quantity    Price    Total\n",
            "0         201        George      Tablet       1.0  15000.0  15000.0\n",
            "1         202         Helen  Headphones       3.0  11500.0  34500.0\n",
            "4         205          Kyle     Printer       4.0   8000.0  32000.0\n",
            "5         206         Laura      Camera       5.0  11500.0  40000.0\n",
            "\n",
            "Large Transactions (Total > 1000):\n",
            "    Invoice_No Customer_Name     Product  Quantity    Price    Total\n",
            "0         201        George      Tablet       1.0  15000.0  15000.0\n",
            "1         202         Helen  Headphones       3.0  11500.0  34500.0\n",
            "4         205          Kyle     Printer       4.0   8000.0  32000.0\n",
            "5         206         Laura      Camera       5.0  11500.0  40000.0\n"
          ]
        }
      ]
    },
    {
      "cell_type": "markdown",
      "source": [
        "QUESTION 2\n"
      ],
      "metadata": {
        "id": "Pv1rzXiIKa2o"
      }
    },
    {
      "cell_type": "code",
      "source": [
        "import pandas as pd\n",
        "df = pd.read_csv(\"/content/applicants (1).csv\")\n",
        "df = df.dropna(subset=[\"Python_Score\"])\n",
        "df[\"Experience_Years\"] = df[\"Experience_Years\"].fillna(0)\n",
        "qualified_applicants = df[(df[\"Python_Score\"] > 80) & (df[\"Experience_Years\"] > 2)]\n",
        "print(df)\n",
        "print(\"\\nQualified Applicants (Python_Score > 80 and Experience_Years > 2):\\n\", qualified_applicants)\n",
        "df.to_csv(\"cleaned_applicants.csv\", index=False)\n",
        "qualified_applicants.to_csv(\"qualified_applicants.csv\", index=False)"
      ],
      "metadata": {
        "colab": {
          "base_uri": "https://localhost:8080/",
          "height": 0
        },
        "id": "I0WPOgotKg69",
        "outputId": "9e088611-0383-4e39-ac3d-b996c0036b95"
      },
      "execution_count": 4,
      "outputs": [
        {
          "output_type": "stream",
          "name": "stdout",
          "text": [
            "   Applicant_ID   Name  Degree  Experience_Years  Python_Score       Status\n",
            "0             1  Alice  B.Tech               3.0          85.0      Applied\n",
            "1             2    Bob     MCA               0.0          90.0  Interviewed\n",
            "3             4  David  M.Tech               5.0          70.0     Rejected\n",
            "4             5    Eva     MBA               0.0          88.0  Interviewed\n",
            "5             6  Frank     BCA               2.0          60.0      Applied\n",
            "6             7  Grace  B.Tech               4.0          95.0     Selected\n",
            "\n",
            "Qualified Applicants (Python_Score > 80 and Experience_Years > 2):\n",
            "    Applicant_ID   Name  Degree  Experience_Years  Python_Score    Status\n",
            "0             1  Alice  B.Tech               3.0          85.0   Applied\n",
            "6             7  Grace  B.Tech               4.0          95.0  Selected\n"
          ]
        }
      ]
    }
  ]
}