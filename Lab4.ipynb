{
  "nbformat": 4,
  "nbformat_minor": 0,
  "metadata": {
    "colab": {
      "provenance": [],
      "authorship_tag": "ABX9TyNEhHRriHSa0o6+aXqFtuMi",
      "include_colab_link": true
    },
    "kernelspec": {
      "name": "python3",
      "display_name": "Python 3"
    },
    "language_info": {
      "name": "python"
    }
  },
  "cells": [
    {
      "cell_type": "markdown",
      "metadata": {
        "id": "view-in-github",
        "colab_type": "text"
      },
      "source": [
        "<a href=\"https://colab.research.google.com/github/2303a51733/230351733_B11_PDS/blob/main/Lab4.ipynb\" target=\"_parent\"><img src=\"https://colab.research.google.com/assets/colab-badge.svg\" alt=\"Open In Colab\"/></a>"
      ]
    },
    {
      "cell_type": "code",
      "execution_count": 2,
      "metadata": {
        "colab": {
          "base_uri": "https://localhost:8080/"
        },
        "id": "OJVhjRDL4DzP",
        "outputId": "b6ff02ec-480d-4d01-f673-0945c62dce33"
      },
      "outputs": [
        {
          "output_type": "stream",
          "name": "stdout",
          "text": [
            "High Achievers (All subjects > 75):\n",
            "   Student_ID   Name    Math  Science  English\n",
            "0           1   John  78.000    85.00     92.0\n",
            "1           2   Jane  90.000    83.25     88.0\n",
            "4           5   Mary  88.000    91.00     95.0\n",
            "6           7   Lisa  95.000    96.00     93.0\n",
            "7           8  Steve  85.000    78.00     84.0\n",
            "8           9   Nina  80.625    89.00     84.0\n",
            "9          10    Raj  77.000    83.25     76.0\n"
          ]
        }
      ],
      "source": [
        "import pandas as pd\n",
        "df = pd.read_csv('student_scores.csv')\n",
        "df_filled = df.copy()\n",
        "df_filled[['Math', 'Science', 'English']] = df[['Math', 'Science', 'English']].fillna(df[['Math', 'Science', 'English']].mean())\n",
        "high_achievers = df_filled[\n",
        "    (df_filled['Math'] > 75) &\n",
        "    (df_filled['Science'] > 75) &\n",
        "    (df_filled['English'] > 75)\n",
        "]\n",
        "print(\"High Achievers (All subjects > 75):\")\n",
        "print(high_achievers)"
      ]
    },
    {
      "cell_type": "code",
      "source": [
        "import pandas as pd\n",
        "\n",
        "# Load the dataset\n",
        "df = pd.read_csv('patients.csv')\n",
        "\n",
        "# Replace missing Age values with median (safe way)\n",
        "median_age = df['Age'].median()\n",
        "df['Age'] = df['Age'].fillna(median_age)\n",
        "\n",
        "# Filter elderly female patients diagnosed with Diabetes\n",
        "filtered_df = df[\n",
        "    (df['Gender'].str.lower() == 'female') &\n",
        "    (df['Age'] > 50) &\n",
        "    (df['Diagnosis'].str.lower() == 'diabetes')\n",
        "]\n",
        "\n",
        "# Display the result\n",
        "print(\"Elderly Female Patients with Diabetes:\")\n",
        "print(filtered_df)"
      ],
      "metadata": {
        "colab": {
          "base_uri": "https://localhost:8080/"
        },
        "id": "n1-k5vX17Xkg",
        "outputId": "5964e48d-36bd-49de-effc-b61cfb9c5daf"
      },
      "execution_count": 3,
      "outputs": [
        {
          "output_type": "stream",
          "name": "stdout",
          "text": [
            "Elderly Female Patients with Diabetes:\n",
            "   Patient_ID         Name   Age  Gender Diagnosis Admission_Date\n",
            "0           1  Alice Smith  65.0  Female  Diabetes     2023-01-12\n",
            "2           3  Clara Adams  55.5  Female  Diabetes     2023-03-15\n",
            "5           6    Grace Lee  72.0  Female  Diabetes     2023-06-18\n",
            "6           7     Helen Wu  55.5  Female  Diabetes     2023-07-22\n",
            "8           9   Joan Green  51.0  Female  Diabetes     2023-09-01\n"
          ]
        }
      ]
    }
  ]
}