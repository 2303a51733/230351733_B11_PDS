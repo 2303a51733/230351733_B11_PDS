{
  "nbformat": 4,
  "nbformat_minor": 0,
  "metadata": {
    "colab": {
      "provenance": [],
      "authorship_tag": "ABX9TyOmnqZ3PniqY6BMCpb8eU4z",
      "include_colab_link": true
    },
    "kernelspec": {
      "name": "python3",
      "display_name": "Python 3"
    },
    "language_info": {
      "name": "python"
    }
  },
  "cells": [
    {
      "cell_type": "markdown",
      "metadata": {
        "id": "view-in-github",
        "colab_type": "text"
      },
      "source": [
        "<a href=\"https://colab.research.google.com/github/2303a51733/230351733_B11_PDS/blob/main/lab_6.ipynb\" target=\"_parent\"><img src=\"https://colab.research.google.com/assets/colab-badge.svg\" alt=\"Open In Colab\"/></a>"
      ]
    },
    {
      "cell_type": "code",
      "execution_count": 4,
      "metadata": {
        "colab": {
          "base_uri": "https://localhost:8080/",
          "height": 0
        },
        "id": "rhHvZh7h9xJG",
        "outputId": "4acbe303-5448-43a6-9486-6b29b5fa53d5"
      },
      "outputs": [
        {
          "output_type": "stream",
          "name": "stdout",
          "text": [
            "📌 Original Dataset:\n",
            "   TransactionID Customer     Product  Amount\n",
            "0            101    Alice      Laptop     800\n",
            "1            102      Bob       Phone     500\n",
            "2            103  Charlie      Tablet     300\n",
            "3            104    David      Laptop     900\n",
            "4            105      Eva       Phone     600\n",
            "5            101    Alice      Laptop     800\n",
            "6            103  Charlie      Tablet     300\n",
            "7            106    Frank  Headphones     150\n",
            "\n",
            "🔍 Checking for Duplicates...\n",
            "Duplicate Records Found:\n",
            "   TransactionID Customer Product  Amount\n",
            "5            101    Alice  Laptop     800\n",
            "6            103  Charlie  Tablet     300\n",
            "\n",
            "✅ Before Cleaning: 8 records\n",
            "✅ After Cleaning: 6 records\n",
            "🗑️ Duplicates Removed: 2\n",
            "\n",
            "📌 Cleaned Dataset:\n",
            "   TransactionID Customer     Product  Amount\n",
            "0            101    Alice      Laptop     800\n",
            "1            102      Bob       Phone     500\n",
            "2            103  Charlie      Tablet     300\n",
            "3            104    David      Laptop     900\n",
            "4            105      Eva       Phone     600\n",
            "7            106    Frank  Headphones     150\n",
            "\n",
            "📖 Discussion: Why Remove Duplicates?\n",
            "- Prevents inflated sales totals\n",
            "- Ensures accurate customer insights\n",
            "- Improves forecasting and analysis accuracy\n",
            "- Saves storage and processing power\n"
          ]
        }
      ],
      "source": [
        "import pandas as pd\n",
        "data = {\n",
        "    \"TransactionID\": [101, 102, 103, 104, 105, 101, 103, 106],\n",
        "    \"Customer\": [\"Alice\", \"Bob\", \"Charlie\", \"David\", \"Eva\", \"Alice\", \"Charlie\", \"Frank\"],\n",
        "    \"Product\": [\"Laptop\", \"Phone\", \"Tablet\", \"Laptop\", \"Phone\", \"Laptop\", \"Tablet\", \"Headphones\"],\n",
        "    \"Amount\": [800, 500, 300, 900, 600, 800, 300, 150]\n",
        "}\n",
        "df = pd.DataFrame(data)\n",
        "print(\"📌 Original Dataset:\")\n",
        "print(df)\n",
        "print(\"\\n🔍 Checking for Duplicates...\")\n",
        "duplicates = df[df.duplicated()]\n",
        "print(\"Duplicate Records Found:\")\n",
        "print(duplicates)\n",
        "df_cleaned = df.drop_duplicates()\n",
        "before = len(df)\n",
        "after = len(df_cleaned)\n",
        "removed = before - after\n",
        "print(f\"\\n✅ Before Cleaning: {before} records\")\n",
        "print(f\"✅ After Cleaning: {after} records\")\n",
        "print(f\"🗑️ Duplicates Removed: {removed}\")\n",
        "print(\"\\n📌 Cleaned Dataset:\")\n",
        "print(df_cleaned)\n",
        "print(\"\\n📖 Discussion: Why Remove Duplicates?\")\n",
        "print(\"- Prevents inflated sales totals\")\n",
        "print(\"- Ensures accurate customer insights\")\n",
        "print(\"- Improves forecasting and analysis accuracy\")\n",
        "print(\"- Saves storage and processing power\")\n"
      ]
    },
    {
      "cell_type": "code",
      "source": [
        "import pandas as pd\n",
        "data = {\n",
        "    \"EmployeeID\": [1, 2, 3, 4],\n",
        "    \"Name\": [\"Alice\", \"Bob\", \"Charlie\", \"David\"],\n",
        "    \"Salary\": [\"50000\", \"60000\", \"55000\", \"62000\"],   # Stored as string\n",
        "    \"Joining_Date\": [\"2021-01-15\", \"2020-07-20\", \"2021-12-01\", \"2022-03-10\"]  # Stored as string\n",
        "}\n",
        "df = pd.DataFrame(data)\n",
        "print(\"📌 Original Dataset:\")\n",
        "print(df)\n",
        "print(\"\\nData Types Before Conversion:\")\n",
        "print(df.dtypes)\n",
        "df[\"Salary\"] = pd.to_numeric(df[\"Salary\"])\n",
        "df[\"Joining_Date\"] = pd.to_datetime(df[\"Joining_Date\"])\n",
        "print(\"\\n✅ Cleaned Dataset:\")\n",
        "print(df)\n",
        "print(\"\\nData Types After Conversion:\")\n",
        "print(df.dtypes)\n",
        "print(\"\\n📖 Discussion: Why Correct Data Types Matter?\")\n",
        "print(\"- Ensures accurate calculations (e.g., sum, mean of Salary).\")\n",
        "print(\"- Enables time-based analysis (e.g., employee tenure, trends).\")\n",
        "print(\"- Prevents runtime errors during analysis and modeling.\")\n",
        "print(\"- Improves efficiency by storing data in the right format.\")\n"
      ],
      "metadata": {
        "colab": {
          "base_uri": "https://localhost:8080/",
          "height": 0
        },
        "id": "Al6vu27P96mO",
        "outputId": "4bd07c61-758f-4da8-ed13-176cb98d79a7"
      },
      "execution_count": 5,
      "outputs": [
        {
          "output_type": "stream",
          "name": "stdout",
          "text": [
            "📌 Original Dataset:\n",
            "   EmployeeID     Name Salary Joining_Date\n",
            "0           1    Alice  50000   2021-01-15\n",
            "1           2      Bob  60000   2020-07-20\n",
            "2           3  Charlie  55000   2021-12-01\n",
            "3           4    David  62000   2022-03-10\n",
            "\n",
            "Data Types Before Conversion:\n",
            "EmployeeID       int64\n",
            "Name            object\n",
            "Salary          object\n",
            "Joining_Date    object\n",
            "dtype: object\n",
            "\n",
            "✅ Cleaned Dataset:\n",
            "   EmployeeID     Name  Salary Joining_Date\n",
            "0           1    Alice   50000   2021-01-15\n",
            "1           2      Bob   60000   2020-07-20\n",
            "2           3  Charlie   55000   2021-12-01\n",
            "3           4    David   62000   2022-03-10\n",
            "\n",
            "Data Types After Conversion:\n",
            "EmployeeID               int64\n",
            "Name                    object\n",
            "Salary                   int64\n",
            "Joining_Date    datetime64[ns]\n",
            "dtype: object\n",
            "\n",
            "📖 Discussion: Why Correct Data Types Matter?\n",
            "- Ensures accurate calculations (e.g., sum, mean of Salary).\n",
            "- Enables time-based analysis (e.g., employee tenure, trends).\n",
            "- Prevents runtime errors during analysis and modeling.\n",
            "- Improves efficiency by storing data in the right format.\n"
          ]
        }
      ]
    }
  ]
}