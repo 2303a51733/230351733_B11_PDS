{
  "nbformat": 4,
  "nbformat_minor": 0,
  "metadata": {
    "colab": {
      "provenance": [],
      "authorship_tag": "ABX9TyMHBtniDYi7ZwrMBgPoyqEK",
      "include_colab_link": true
    },
    "kernelspec": {
      "name": "python3",
      "display_name": "Python 3"
    },
    "language_info": {
      "name": "python"
    }
  },
  "cells": [
    {
      "cell_type": "markdown",
      "metadata": {
        "id": "view-in-github",
        "colab_type": "text"
      },
      "source": [
        "<a href=\"https://colab.research.google.com/github/2303a51733/230351733_B11_PDS/blob/main/lab_3.ipynb\" target=\"_parent\"><img src=\"https://colab.research.google.com/assets/colab-badge.svg\" alt=\"Open In Colab\"/></a>"
      ]
    },
    {
      "cell_type": "markdown",
      "source": [
        "Perform basic arithmetic operations like addition and subtraction\n",
        "on 2D NumPy arrays representing matrices"
      ],
      "metadata": {
        "id": "wnIdmeaRqlsc"
      }
    },
    {
      "cell_type": "code",
      "execution_count": 3,
      "metadata": {
        "colab": {
          "base_uri": "https://localhost:8080/"
        },
        "id": "5k9hGQXcp_6U",
        "outputId": "34f4cf70-f38a-4c38-a6be-203fb9d05783"
      },
      "outputs": [
        {
          "output_type": "stream",
          "name": "stdout",
          "text": [
            "[[20 30 40]\n",
            " [40 50 60]]\n",
            "[[15 10 25]\n",
            " [20 25 35]]\n"
          ]
        }
      ],
      "source": [
        "import numpy as np\n",
        "A=np.array([[20,30,40],[40,50,60]])\n",
        "B=np.array([[15,10,25],[20,25,35]])\n",
        "print(A)\n",
        "print(B)\n"
      ]
    },
    {
      "cell_type": "code",
      "source": [
        "addition=np.add(A,B)\n",
        "print(addition)\n",
        "subtraction=np.subtract(A,B)\n",
        "print(subtraction)"
      ],
      "metadata": {
        "colab": {
          "base_uri": "https://localhost:8080/"
        },
        "id": "hy9yR_DGqCz-",
        "outputId": "ae27cf1c-fcc8-4c1d-db29-0623652ef2e5"
      },
      "execution_count": 4,
      "outputs": [
        {
          "output_type": "stream",
          "name": "stdout",
          "text": [
            "[[35 40 65]\n",
            " [60 75 95]]\n",
            "[[ 5 20 15]\n",
            " [20 25 25]]\n"
          ]
        }
      ]
    },
    {
      "cell_type": "markdown",
      "source": [
        "Apply statistical operations like mean, median, std, min, and max\n",
        "to analyze 2D array data."
      ],
      "metadata": {
        "id": "eFTIBdNgqwcL"
      }
    },
    {
      "cell_type": "code",
      "source": [
        "import numpy as np\n",
        "scores = np.random.randint(0, 101, (4, 4))\n",
        "print(\"Test Scores (4x4):\\n\", scores)\n",
        "row_mean = np.mean(scores, axis=1)\n",
        "print(\"\\nRow-wise Mean (per student):\\n\", row_mean)\n",
        "col_mean = np.mean(scores, axis=0)\n",
        "print(\"\\nColumn-wise Mean (per subject):\\n\", col_mean)\n",
        "std_dev = np.std(scores)\n",
        "variance = np.var(scores)\n",
        "print(\"\\nStandard Deviation of all scores:\", std_dev)\n",
        "print(\"Variance of all scores:\", variance)\n",
        "max_value = np.max(scores)\n",
        "min_value = np.min(scores)\n",
        "max_index = np.unravel_index(np.argmax(scores), scores.shape)\n",
        "min_index = np.unravel_index(np.argmin(scores), scores.shape)\n",
        "print(\"\\nMaximum Score:\", max_value)\n",
        "print(\"Minimum Score:\", min_value)"
      ],
      "metadata": {
        "colab": {
          "base_uri": "https://localhost:8080/"
        },
        "id": "NYDmUf_wqSpM",
        "outputId": "d989be30-f242-4e01-974c-6adb99717153"
      },
      "execution_count": 5,
      "outputs": [
        {
          "output_type": "stream",
          "name": "stdout",
          "text": [
            "Test Scores (4x4):\n",
            " [[41 21 11 58]\n",
            " [64 89  4 21]\n",
            " [96 74 26 43]\n",
            " [67  8 85 63]]\n",
            "\n",
            "Row-wise Mean (per student):\n",
            " [32.75 44.5  59.75 55.75]\n",
            "\n",
            "Column-wise Mean (per subject):\n",
            " [67.   48.   31.5  46.25]\n",
            "\n",
            "Standard Deviation of all scores: 29.466546179523654\n",
            "Variance of all scores: 868.27734375\n",
            "\n",
            "Maximum Score: 96\n",
            "Minimum Score: 4\n"
          ]
        }
      ]
    },
    {
      "cell_type": "markdown",
      "source": [
        "Apply statistical operations like mean, median, std, min, and max\n",
        "to analyze 2D array data"
      ],
      "metadata": {
        "id": "ks_xNpY1q7Ks"
      }
    },
    {
      "cell_type": "code",
      "source": [
        "import numpy as np\n",
        "image = np.random.randint(0, 256, (3, 3, 3))\n",
        "print(\"Original Image:\\n\", image)\n",
        "red   = image[:, :, 0]\n",
        "green = image[:, :, 1]\n",
        "blue  = image[:, :, 2]\n",
        "print(\"\\nRed Channel:\\n\", red)\n",
        "print(\"\\nGreen Channel:\\n\", green)\n",
        "print(\"\\nBlue Channel:\\n\", blue)\n",
        "print(\"\\nAverage Red:\", np.mean(red))\n",
        "print(\"Average Green:\", np.mean(green))\n",
        "print(\"Average Blue:\", np.mean(blue))\n",
        "bright = np.clip(np.add(image, 50), 0, 255)\n",
        "print(\"\\nBrightened Image:\\n\", bright)\n",
        "dark = np.clip(np.subtract(image, 50), 0, 255)\n",
        "print(\"\\nDarkened Image:\\n\", dark)\n"
      ],
      "metadata": {
        "colab": {
          "base_uri": "https://localhost:8080/"
        },
        "id": "6apIgP1WqamT",
        "outputId": "eac12708-2314-4814-f1fd-127521e283c2"
      },
      "execution_count": 6,
      "outputs": [
        {
          "output_type": "stream",
          "name": "stdout",
          "text": [
            "Original Image:\n",
            " [[[  8 204  15]\n",
            "  [ 73 227 198]\n",
            "  [211 244   8]]\n",
            "\n",
            " [[155  53  66]\n",
            "  [195 218  29]\n",
            "  [195  87   0]]\n",
            "\n",
            " [[ 41  73 108]\n",
            "  [139  11 244]\n",
            "  [202  57  70]]]\n",
            "\n",
            "Red Channel:\n",
            " [[  8  73 211]\n",
            " [155 195 195]\n",
            " [ 41 139 202]]\n",
            "\n",
            "Green Channel:\n",
            " [[204 227 244]\n",
            " [ 53 218  87]\n",
            " [ 73  11  57]]\n",
            "\n",
            "Blue Channel:\n",
            " [[ 15 198   8]\n",
            " [ 66  29   0]\n",
            " [108 244  70]]\n",
            "\n",
            "Average Red: 135.44444444444446\n",
            "Average Green: 130.44444444444446\n",
            "Average Blue: 82.0\n",
            "\n",
            "Brightened Image:\n",
            " [[[ 58 254  65]\n",
            "  [123 255 248]\n",
            "  [255 255  58]]\n",
            "\n",
            " [[205 103 116]\n",
            "  [245 255  79]\n",
            "  [245 137  50]]\n",
            "\n",
            " [[ 91 123 158]\n",
            "  [189  61 255]\n",
            "  [252 107 120]]]\n",
            "\n",
            "Darkened Image:\n",
            " [[[  0 154   0]\n",
            "  [ 23 177 148]\n",
            "  [161 194   0]]\n",
            "\n",
            " [[105   3  16]\n",
            "  [145 168   0]\n",
            "  [145  37   0]]\n",
            "\n",
            " [[  0  23  58]\n",
            "  [ 89   0 194]\n",
            "  [152   7  20]]]\n"
          ]
        }
      ]
    },
    {
      "cell_type": "code",
      "source": [],
      "metadata": {
        "id": "4uAxOG9KqfHO"
      },
      "execution_count": null,
      "outputs": []
    }
  ]
}